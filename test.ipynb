{
 "cells": [
  {
   "cell_type": "code",
   "execution_count": null,
   "metadata": {},
   "outputs": [],
   "source": [
    "from PIL import Image\n",
    "from pylibdmtx.pylibdmtx import decode\n",
    "from models.model import Recostructor\n",
    "from dataset import DMdataset\n",
    "\n",
    "def run(cfg):\n",
    "\n",
    "\n",
    "    \n",
    "    model = Recostructor(cfg.model.n_boxes,cfg.model.dim)\n",
    "    dataset_train = DMdataset(cfg.dataset,\"train\")\n",
    "    model.eval()\n",
    "\n",
    "    data = {}\n",
    "\n",
    "\n",
    "\n",
    "\n",
    "\n",
    "    path = \"saved.png\"\n",
    "    data = dataset_train.prepare_image(path)\n",
    "\n",
    "\n",
    "\n",
    "\n",
    "    #model.build(input = data , mode = \"inference\")\n",
    "\n"
   ]
  }
 ],
 "metadata": {
  "interpreter": {
   "hash": "2ca9ffeb7ea198eee788a0382da5bd5b9e2791b850ad8c539173dbaebdc35465"
  },
  "kernelspec": {
   "display_name": "Python 3.9.13 ('barcode')",
   "language": "python",
   "name": "python3"
  },
  "language_info": {
   "codemirror_mode": {
    "name": "ipython",
    "version": 3
   },
   "file_extension": ".py",
   "mimetype": "text/x-python",
   "name": "python",
   "nbconvert_exporter": "python",
   "pygments_lexer": "ipython3",
   "version": "3.9.13"
  },
  "orig_nbformat": 4
 },
 "nbformat": 4,
 "nbformat_minor": 2
}
